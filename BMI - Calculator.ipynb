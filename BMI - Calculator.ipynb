{
 "cells": [
  {
   "cell_type": "markdown",
   "id": "f762a776",
   "metadata": {},
   "source": [
    "# This is BMI Calculator. Please follow the instructions in order to calculate your BMI"
   ]
  },
  {
   "cell_type": "code",
   "execution_count": 8,
   "id": "edb594c6",
   "metadata": {},
   "outputs": [
    {
     "name": "stdout",
     "output_type": "stream",
     "text": [
      "Enter your weight:\n",
      "64\n",
      "Enter your height:\n",
      "172\n",
      "Your bmi is: 21.63331530557058\n",
      "Your BMI is on the right level, you have Normal Weight\n"
     ]
    }
   ],
   "source": [
    "print('Enter your weight:')\n",
    "try:\n",
    "    weight=int(input())\n",
    "except ValueError:\n",
    "        print('Weight must be a number! Enter correct value or programm will stop')\n",
    "        error=True\n",
    "        if error==True:\n",
    "            try:\n",
    "                weight=int(input())\n",
    "            except ValueError:\n",
    "                print('Program stopped due to incorrect input for second time')\n",
    "                \n",
    "print('Enter your height:')\n",
    "try:\n",
    "    height=int(input())\n",
    "except ValueError:\n",
    "        print('Height must be a number! Enter correct value or programm will stop')\n",
    "        error=True\n",
    "        if error==True:\n",
    "            try:\n",
    "                Height=int(input())\n",
    "            except ValueError:\n",
    "                print('Program stopped due to incorrect input for second time')    \n",
    "\n",
    "adjusted_height= height/100\n",
    "\n",
    "bmi=weight/adjusted_height**2\n",
    "\n",
    "print('Your bmi is:', bmi)\n",
    "\n",
    "if bmi > 40:\n",
    "    print('Your BMI is really high, you have Obese Class III')\n",
    "elif bmi < 40 and bmi >= 35:\n",
    "    print('Your BMI is really high, you have Obese Class II')\n",
    "elif bmi < 35 and bmi >= 30:\n",
    "    print('Your BMI is pretty high, you have Obese Class I')\n",
    "elif bmi < 30 and bmi >= 25:\n",
    "    print('Your BMI is pretty high, you have Overweight')\n",
    "elif bmi < 25 and bmi >=18.5:\n",
    "    print('Your BMI is on the right level, you have Normal Weight')\n",
    "elif bmi < 18.5 and bmi >= 17:\n",
    "    print('Your BMI is pretty low, you have Mild Thinness')\n",
    "elif bmi < 17 and bmi >= 16:\n",
    "    print('Your BMI is pretty low, you have Moderate Thinness')\n",
    "else:\n",
    "    print('Your BMI is really low, you have Severe Thinness')"
   ]
  }
 ],
 "metadata": {
  "kernelspec": {
   "display_name": "Python 3 (ipykernel)",
   "language": "python",
   "name": "python3"
  },
  "language_info": {
   "codemirror_mode": {
    "name": "ipython",
    "version": 3
   },
   "file_extension": ".py",
   "mimetype": "text/x-python",
   "name": "python",
   "nbconvert_exporter": "python",
   "pygments_lexer": "ipython3",
   "version": "3.9.13"
  }
 },
 "nbformat": 4,
 "nbformat_minor": 5
}
