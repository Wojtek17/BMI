{
 "cells": [
  {
   "cell_type": "code",
   "execution_count": 118,
   "id": "5084bef4",
   "metadata": {},
   "outputs": [],
   "source": [
    "import os, shutil"
   ]
  },
  {
   "cell_type": "code",
   "execution_count": 123,
   "id": "6dc54a2e",
   "metadata": {},
   "outputs": [],
   "source": [
    "# defining variables\n",
    "path=\"/Users/wojtekmarszalek/Desktop/Studia\"\n",
    "path_folder=\"/Users/wojtekmarszalek/Desktop/Studia/Magisterka/Semestr 8\"\n",
    "folder_names=[\"/Ekonomia_Matematyczna\",\"/Zarządzanie_Informacją\",\"/Analiza_Systemów\",\"/Analiza_Szeregów\",\"/Badania Internetowe\",\"/Inżynieria oprogramowania\",\"/VBA\",\"/Bazy_Danych\",\"/Analiza_Statystyczna\"]\n",
    "file_names=os.listdir(path)"
   ]
  },
  {
   "cell_type": "code",
   "execution_count": 124,
   "id": "61ea3292",
   "metadata": {},
   "outputs": [
    {
     "name": "stdout",
     "output_type": "stream",
     "text": [
      "Folder already exists\n",
      "Folder already exists\n",
      "Folder already exists\n",
      "Folder already exists\n",
      "Folder already exists\n",
      "Folder already exists\n",
      "Folder already exists\n",
      "Folder already exists\n",
      "Folder already exists\n"
     ]
    }
   ],
   "source": [
    "# creating folders if they don't already exist\n",
    "for f in folder_names:\n",
    "    if not os.path.exists(path_folder + f):\n",
    "        print(path_folder + f)\n",
    "        os.makedirs(path_folder + f)\n",
    "    else:\n",
    "        print('Folder already exists')"
   ]
  },
  {
   "cell_type": "code",
   "execution_count": 125,
   "id": "91635075",
   "metadata": {},
   "outputs": [
    {
     "data": {
      "text/plain": [
       "['.DS_Store', 'Licencjat', 'Magisterka', 'SKN', '_Bazy.rtf']"
      ]
     },
     "execution_count": 125,
     "metadata": {},
     "output_type": "execute_result"
    }
   ],
   "source": [
    "file_names"
   ]
  },
  {
   "cell_type": "code",
   "execution_count": 126,
   "id": "d99a401a",
   "metadata": {},
   "outputs": [
    {
     "name": "stdout",
     "output_type": "stream",
     "text": [
      "Incorrect name or no file in directory\n",
      "Incorrect name or no file in directory\n",
      "Incorrect name or no file in directory\n",
      "Incorrect name or no file in directory\n",
      "Incorrect name or no file in directory\n",
      "Incorrect name or no file in directory\n",
      "Incorrect name or no file in directory\n",
      "Incorrect name or no file in directory\n",
      "Incorrect name or no file in directory\n",
      "Incorrect name or no file in directory\n",
      "Incorrect name or no file in directory\n",
      "Incorrect name or no file in directory\n",
      "Incorrect name or no file in directory\n",
      "Incorrect name or no file in directory\n",
      "Incorrect name or no file in directory\n",
      "Incorrect name or no file in directory\n",
      "Incorrect name or no file in directory\n",
      "Incorrect name or no file in directory\n",
      "Incorrect name or no file in directory\n",
      "Incorrect name or no file in directory\n",
      "Incorrect name or no file in directory\n",
      "Incorrect name or no file in directory\n",
      "Incorrect name or no file in directory\n",
      "Incorrect name or no file in directory\n",
      "Incorrect name or no file in directory\n",
      "Incorrect name or no file in directory\n",
      "Incorrect name or no file in directory\n",
      "Incorrect name or no file in directory\n",
      "Incorrect name or no file in directory\n",
      "Incorrect name or no file in directory\n",
      "Incorrect name or no file in directory\n",
      "Incorrect name or no file in directory\n",
      "Incorrect name or no file in directory\n",
      "Incorrect name or no file in directory\n",
      "Incorrect name or no file in directory\n",
      "Incorrect name or no file in directory\n",
      "Incorrect name or no file in directory\n",
      "Incorrect name or no file in directory\n",
      "Incorrect name or no file in directory\n",
      "Incorrect name or no file in directory\n",
      "Incorrect name or no file in directory\n",
      "Incorrect name or no file in directory\n",
      "Incorrect name or no file in directory\n",
      "/Users/wojtekmarszalek/Desktop/Studia/Magisterka/Semestr 8/Bazy_Danych/_Bazy.rtf\n",
      "Incorrect name or no file in directory\n"
     ]
    }
   ],
   "source": [
    "# moving files to folders based on the subject names\n",
    "for file in file_names:\n",
    "    for folder in folder_names:\n",
    "        if file[file.find(\"_\")+1:file.find(\".\")] in folder and file[file.find(\"_\")+1:file.find(\".\")] != \"\" and not os.path.exists(path_folder+folder+\"/\"+file):\n",
    "            shutil.move(path+\"/\"+file,path_folder+folder+\"/\"+file)\n",
    "            print(path_folder+folder+\"/\"+file)\n",
    "        else:\n",
    "            print(\"Incorrect name or no file in directory\")"
   ]
  },
  {
   "cell_type": "code",
   "execution_count": null,
   "id": "d1a392fd",
   "metadata": {},
   "outputs": [],
   "source": []
  }
 ],
 "metadata": {
  "kernelspec": {
   "display_name": "Python 3 (ipykernel)",
   "language": "python",
   "name": "python3"
  },
  "language_info": {
   "codemirror_mode": {
    "name": "ipython",
    "version": 3
   },
   "file_extension": ".py",
   "mimetype": "text/x-python",
   "name": "python",
   "nbconvert_exporter": "python",
   "pygments_lexer": "ipython3",
   "version": "3.9.13"
  }
 },
 "nbformat": 4,
 "nbformat_minor": 5
}
