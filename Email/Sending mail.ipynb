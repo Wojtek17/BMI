{
 "cells": [
  {
   "cell_type": "code",
   "execution_count": 10,
   "id": "97be0474",
   "metadata": {},
   "outputs": [],
   "source": [
    "import os\n",
    "from email.message import EmailMessage\n",
    "import ssl # keep guarded sensitive data\n",
    "import smtplib"
   ]
  },
  {
   "cell_type": "code",
   "execution_count": 21,
   "id": "b759a446",
   "metadata": {},
   "outputs": [],
   "source": [
    "# type your app password\n",
    "os.environ[\"Email_Password\"] = r\"xyz\""
   ]
  },
  {
   "cell_type": "code",
   "execution_count": 23,
   "id": "16f7343b",
   "metadata": {},
   "outputs": [],
   "source": [
    "# type needed information\n",
    "email_sender=\"xyz@gmail.com\"\n",
    "email_password=os.environ.get(\"Email_Password\")\n",
    "email_reciever=\"xyz.com\""
   ]
  },
  {
   "cell_type": "code",
   "execution_count": 14,
   "id": "13201f2d",
   "metadata": {},
   "outputs": [],
   "source": [
    "# type in mail body and header\n",
    "subject=\"Test\"\n",
    "body=\"\"\"\n",
    "testing\n",
    "\"\"\"\n",
    "em=EmailMessage()"
   ]
  },
  {
   "cell_type": "code",
   "execution_count": 15,
   "id": "26c22215",
   "metadata": {},
   "outputs": [],
   "source": [
    "# variables\n",
    "em[\"From\"]=email_sender\n",
    "em[\"To\"]=email_reciever\n",
    "em[\"Subject\"]=subject\n",
    "em.set_content(body)"
   ]
  },
  {
   "cell_type": "code",
   "execution_count": 16,
   "id": "a0524be9",
   "metadata": {},
   "outputs": [],
   "source": [
    "context=ssl.create_default_context()"
   ]
  },
  {
   "cell_type": "code",
   "execution_count": 25,
   "id": "55d78d6a",
   "metadata": {},
   "outputs": [],
   "source": [
    "# script\n",
    "with smtplib.SMTP_SSL(\"smtp.gmail.com\",465,context=context) as smtp:\n",
    "    smtp.login(email_sender,email_password)\n",
    "    smtp.sendmail(email_sender,email_reciever,em.as_string())"
   ]
  }
 ],
 "metadata": {
  "kernelspec": {
   "display_name": "Python 3 (ipykernel)",
   "language": "python",
   "name": "python3"
  },
  "language_info": {
   "codemirror_mode": {
    "name": "ipython",
    "version": 3
   },
   "file_extension": ".py",
   "mimetype": "text/x-python",
   "name": "python",
   "nbconvert_exporter": "python",
   "pygments_lexer": "ipython3",
   "version": "3.9.13"
  }
 },
 "nbformat": 4,
 "nbformat_minor": 5
}
