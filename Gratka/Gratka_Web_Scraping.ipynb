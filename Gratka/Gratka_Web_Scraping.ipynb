{
 "cells": [
  {
   "cell_type": "code",
   "execution_count": 1,
   "id": "35085d13",
   "metadata": {},
   "outputs": [],
   "source": [
    "# biblioteki\n",
    "from bs4 import BeautifulSoup \n",
    "import requests as req \n",
    "import time\n",
    "import datetime\n",
    "import pandas as pd\n",
    "import numpy as np\n",
    "import concurrent.futures"
   ]
  },
  {
   "cell_type": "code",
   "execution_count": 2,
   "id": "066cb5a4",
   "metadata": {},
   "outputs": [],
   "source": [
    "checked_range=range(1,312)"
   ]
  },
  {
   "cell_type": "code",
   "execution_count": 27,
   "id": "a4f4be39",
   "metadata": {},
   "outputs": [],
   "source": [
    "div_elements=[]\n",
    "for i in checked_range:\n",
    "    url = f\"https://gratka.pl/nieruchomosci/mieszkania/wielkopolskie?page={i}&gclid=Cj0KCQjw7PCjBhDwARIsANo7CgkQq3sz7QjamydfPdvSp2zNOQe3oTABLQm-7F35qzOjrlwdUO75yoYaAitAEALw_wcB\"\n",
    "    response=req.get(url)\n",
    "    html_content=response.text\n",
    "    soup=BeautifulSoup(html_content, 'html.parser')\n",
    "    div_element=soup.find_all(\"div\", {\"class\":\"listing__teaserWrapper\"})\n",
    "    div_elements.append(div_element)"
   ]
  },
  {
   "cell_type": "code",
   "execution_count": 28,
   "id": "b9ff6cae",
   "metadata": {},
   "outputs": [],
   "source": [
    "li_list=[]\n",
    "locations_list=[]\n",
    "prices_list=[]\n",
    "info_list=[]\n",
    "for div in div_elements:\n",
    "    for d in div:\n",
    "        location=d.find(\"span\",{\"class\":\"teaserUnified__location\"}).text.strip()\n",
    "        locations_list.append(location)\n",
    "        price=d.find(\"p\", {\"class\":\"teaserUnified__price\"}).text\n",
    "        prices_list.append(price)\n",
    "        li_elements=d.find_all(\"li\", {\"class\":\"teaserUnified__listItem\"})\n",
    "        li_list.append(li_elements)\n",
    "\n",
    "trim_locations=[]\n",
    "for location in locations_list:\n",
    "    trim_location=location.replace(\" \", \"\")\n",
    "    trim_locations.append(trim_location)\n",
    "#trim_locations\n",
    "int_whole_prices=[]\n",
    "int_prices_per_m2=[]\n",
    "for price in prices_list:\n",
    "    trim_price=price.replace(\"\\n\",\"\").replace(\"Unknown\",\"\").replace(\" \",\"\")\n",
    "    whole_price=trim_price[0:trim_price.find(\"z\")]\n",
    "    int_whole_prices.append(whole_price)\n",
    "    price_per_m2=trim_price[trim_price.find(\"ł\"):].replace(\"ł\",\"\").replace(\"z/m2\",\"\")\n",
    "    int_prices_per_m2.append(price_per_m2)\n",
    "#print(trim_locations, int_prices)\n",
    "\n",
    "df=pd.DataFrame(trim_locations)\n",
    "df[\"whole_price\"]=int_whole_prices\n",
    "df[\"price_per_m2\"]=int_prices_per_m2\n",
    "df[\"info\"]=li_list\n",
    "for index, row in df.iterrows():\n",
    "    new_info = [line.text for line in row[\"info\"]]\n",
    "    df.at[index, \"info\"] = new_info\n",
    "expanded_info = df[\"info\"].apply(pd.Series)\n",
    "df[[\"size\", \"rooms\", \"floor\"]] = expanded_info"
   ]
  },
  {
   "cell_type": "code",
   "execution_count": 29,
   "id": "5e2d7d63",
   "metadata": {},
   "outputs": [],
   "source": [
    "df[['Miasto', 'Powiat', 'Województwo']]=df[0].str.split(\",\",expand=True)\n",
    "df.drop([0,\"info\"],axis=1,inplace=True)"
   ]
  },
  {
   "cell_type": "code",
   "execution_count": 30,
   "metadata": {},
   "outputs": [
    {
     "data": {
      "text/html": [
       "<div>\n",
       "<style scoped>\n",
       "    .dataframe tbody tr th:only-of-type {\n",
       "        vertical-align: middle;\n",
       "    }\n",
       "\n",
       "    .dataframe tbody tr th {\n",
       "        vertical-align: top;\n",
       "    }\n",
       "\n",
       "    .dataframe thead th {\n",
       "        text-align: right;\n",
       "    }\n",
       "</style>\n",
       "<table border=\"1\" class=\"dataframe\">\n",
       "  <thead>\n",
       "    <tr style=\"text-align: right;\">\n",
       "      <th></th>\n",
       "      <th>whole_price</th>\n",
       "      <th>price_per_m2</th>\n",
       "      <th>size</th>\n",
       "      <th>rooms</th>\n",
       "      <th>floor</th>\n",
       "      <th>Miasto</th>\n",
       "      <th>Powiat</th>\n",
       "      <th>Województwo</th>\n",
       "    </tr>\n",
       "  </thead>\n",
       "  <tbody>\n",
       "    <tr>\n",
       "      <th>0</th>\n",
       "      <td>708000</td>\n",
       "      <td>8000</td>\n",
       "      <td>88,50 m2</td>\n",
       "      <td>3 pokoje</td>\n",
       "      <td>3 piętro</td>\n",
       "      <td>Koziegłowy</td>\n",
       "      <td>poznański</td>\n",
       "      <td>wielkopolskie</td>\n",
       "    </tr>\n",
       "    <tr>\n",
       "      <th>1</th>\n",
       "      <td>Zapytajocen</td>\n",
       "      <td>ę</td>\n",
       "      <td>50,11 m2</td>\n",
       "      <td>2 pokoje</td>\n",
       "      <td>2 piętro</td>\n",
       "      <td>Poznań</td>\n",
       "      <td>Jeżyce</td>\n",
       "      <td>wielkopolskie</td>\n",
       "    </tr>\n",
       "    <tr>\n",
       "      <th>2</th>\n",
       "      <td>635000</td>\n",
       "      <td>7744</td>\n",
       "      <td>82 m2</td>\n",
       "      <td>4 pokoje</td>\n",
       "      <td>1 piętro</td>\n",
       "      <td>Czapury</td>\n",
       "      <td>poznański</td>\n",
       "      <td>wielkopolskie</td>\n",
       "    </tr>\n",
       "    <tr>\n",
       "      <th>3</th>\n",
       "      <td>529000</td>\n",
       "      <td>12078</td>\n",
       "      <td>43,80 m2</td>\n",
       "      <td>2 pokoje</td>\n",
       "      <td>parter</td>\n",
       "      <td>Skórzewo</td>\n",
       "      <td>poznański</td>\n",
       "      <td>wielkopolskie</td>\n",
       "    </tr>\n",
       "    <tr>\n",
       "      <th>4</th>\n",
       "      <td>440000</td>\n",
       "      <td>5641</td>\n",
       "      <td>78 m2</td>\n",
       "      <td>4 pokoje</td>\n",
       "      <td>1 piętro</td>\n",
       "      <td>Luboń</td>\n",
       "      <td>Lasek</td>\n",
       "      <td>wielkopolskie</td>\n",
       "    </tr>\n",
       "    <tr>\n",
       "      <th>...</th>\n",
       "      <td>...</td>\n",
       "      <td>...</td>\n",
       "      <td>...</td>\n",
       "      <td>...</td>\n",
       "      <td>...</td>\n",
       "      <td>...</td>\n",
       "      <td>...</td>\n",
       "      <td>...</td>\n",
       "    </tr>\n",
       "    <tr>\n",
       "      <th>4845</th>\n",
       "      <td>569000</td>\n",
       "      <td>6578</td>\n",
       "      <td>86,50 m2</td>\n",
       "      <td>5 pokoi</td>\n",
       "      <td>parter</td>\n",
       "      <td>Kórnik</td>\n",
       "      <td>poznański</td>\n",
       "      <td>wielkopolskie</td>\n",
       "    </tr>\n",
       "    <tr>\n",
       "      <th>4846</th>\n",
       "      <td>644244</td>\n",
       "      <td>8851</td>\n",
       "      <td>72,79 m2</td>\n",
       "      <td>4 pokoje</td>\n",
       "      <td>4 piętro</td>\n",
       "      <td>OstrówWielkopolski</td>\n",
       "      <td>ostrowski</td>\n",
       "      <td>wielkopolskie</td>\n",
       "    </tr>\n",
       "    <tr>\n",
       "      <th>4847</th>\n",
       "      <td>352252</td>\n",
       "      <td>6640</td>\n",
       "      <td>53,05 m2</td>\n",
       "      <td>2 pokoje</td>\n",
       "      <td>4 piętro</td>\n",
       "      <td>OstrówWielkopolski</td>\n",
       "      <td>ostrowski</td>\n",
       "      <td>wielkopolskie</td>\n",
       "    </tr>\n",
       "    <tr>\n",
       "      <th>4848</th>\n",
       "      <td>472472</td>\n",
       "      <td>6490</td>\n",
       "      <td>72,80 m2</td>\n",
       "      <td>4 pokoje</td>\n",
       "      <td>2 piętro</td>\n",
       "      <td>OstrówWielkopolski</td>\n",
       "      <td>ostrowski</td>\n",
       "      <td>wielkopolskie</td>\n",
       "    </tr>\n",
       "    <tr>\n",
       "      <th>4849</th>\n",
       "      <td>569000</td>\n",
       "      <td>6578</td>\n",
       "      <td>86,50 m2</td>\n",
       "      <td>5 pokoi</td>\n",
       "      <td>parter</td>\n",
       "      <td>Kórnik</td>\n",
       "      <td>poznański</td>\n",
       "      <td>wielkopolskie</td>\n",
       "    </tr>\n",
       "  </tbody>\n",
       "</table>\n",
       "<p>4850 rows × 8 columns</p>\n",
       "</div>"
      ],
      "text/plain": [
       "      whole_price price_per_m2      size     rooms     floor  \\\n",
       "0          708000         8000  88,50 m2  3 pokoje  3 piętro   \n",
       "1     Zapytajocen            ę  50,11 m2  2 pokoje  2 piętro   \n",
       "2          635000         7744     82 m2  4 pokoje  1 piętro   \n",
       "3          529000        12078  43,80 m2  2 pokoje    parter   \n",
       "4          440000         5641     78 m2  4 pokoje  1 piętro   \n",
       "...           ...          ...       ...       ...       ...   \n",
       "4845       569000         6578  86,50 m2   5 pokoi    parter   \n",
       "4846       644244         8851  72,79 m2  4 pokoje  4 piętro   \n",
       "4847       352252         6640  53,05 m2  2 pokoje  4 piętro   \n",
       "4848       472472         6490  72,80 m2  4 pokoje  2 piętro   \n",
       "4849       569000         6578  86,50 m2   5 pokoi    parter   \n",
       "\n",
       "                  Miasto     Powiat    Województwo  \n",
       "0             Koziegłowy  poznański  wielkopolskie  \n",
       "1                 Poznań     Jeżyce  wielkopolskie  \n",
       "2                Czapury  poznański  wielkopolskie  \n",
       "3               Skórzewo  poznański  wielkopolskie  \n",
       "4                  Luboń      Lasek  wielkopolskie  \n",
       "...                  ...        ...            ...  \n",
       "4845              Kórnik  poznański  wielkopolskie  \n",
       "4846  OstrówWielkopolski  ostrowski  wielkopolskie  \n",
       "4847  OstrówWielkopolski  ostrowski  wielkopolskie  \n",
       "4848  OstrówWielkopolski  ostrowski  wielkopolskie  \n",
       "4849              Kórnik  poznański  wielkopolskie  \n",
       "\n",
       "[4850 rows x 8 columns]"
      ]
     },
     "execution_count": 30,
     "metadata": {},
     "output_type": "execute_result"
    }
   ],
   "source": [
    "df"
   ]
  },
  {
   "cell_type": "code",
   "execution_count": 31,
   "id": "9fb1a47c",
   "metadata": {},
   "outputs": [],
   "source": [
    "df.columns=[\"Cena_całkowita\", \"Cena_za_m2\", \"Powierzchnia\",\"Liczba_pokoi\",\"Piętro\",\"Miasto\",\"Powiat\",\"Województwo\"]\n",
    "df=df[[\"Miasto\",\"Powiat\",\"Województwo\",\"Powierzchnia\",\"Liczba_pokoi\",\"Piętro\",\"Cena_za_m2\",\"Cena_całkowita\"]]"
   ]
  },
  {
   "cell_type": "code",
   "execution_count": 59,
   "id": "755dc373",
   "metadata": {},
   "outputs": [],
   "source": [
    "filt=df[\"Cena_całkowita\"]!=\"Zapytajocen\"\n",
    "df_clean=df[filt]"
   ]
  },
  {
   "cell_type": "code",
   "execution_count": 44,
   "id": "7e2897ad",
   "metadata": {},
   "outputs": [],
   "source": [
    "def get_num(row):\n",
    "    if type(row)==str and row==\"parter\":\n",
    "        return 0\n",
    "    elif type(row)==str:\n",
    "        return row[:row.find(\" \")]\n"
   ]
  },
  {
   "cell_type": "code",
   "execution_count": 60,
   "metadata": {},
   "outputs": [],
   "source": [
    "df_clean=df_clean[(df_clean[\"Piętro\"]!=\"niski\")&(df_clean[\"Piętro\"]!=\"poddasz\")&(df_clean[\"Piętro\"]!=\"powyżej\")&(df_clean[\"Piętro\"]!=\"poddasze\")&(df_clean[\"Piętro\"]!=\"niski parter\")]\n",
    "df_clean=df_clean[df_clean[\"Piętro\"].notna()]\n",
    "df_clean=df_clean[(df_clean[\"Liczba_pokoi\"].notna())&(df_clean[\"Liczba_pokoi\"]!=\"więcej niż 8 pokoi\")]\n"
   ]
  },
  {
   "cell_type": "code",
   "execution_count": 46,
   "id": "711b6f17",
   "metadata": {},
   "outputs": [
    {
     "data": {
      "text/plain": [
       "1 piętro     887\n",
       "parter       739\n",
       "2 piętro     563\n",
       "3 piętro     485\n",
       "4 piętro     315\n",
       "5 piętro     106\n",
       "6 piętro      62\n",
       "7 piętro      33\n",
       "8 piętro      25\n",
       "9 piętro      22\n",
       "10 piętro     19\n",
       "11 piętro     17\n",
       "16 piętro      9\n",
       "15 piętro      8\n",
       "12 piętro      6\n",
       "14 piętro      5\n",
       "17 piętro      4\n",
       "13 piętro      4\n",
       "Name: Piętro, dtype: int64"
      ]
     },
     "execution_count": 46,
     "metadata": {},
     "output_type": "execute_result"
    }
   ],
   "source": [
    "df_clean[\"Piętro\"].value_counts()"
   ]
  },
  {
   "cell_type": "code",
   "execution_count": 47,
   "id": "9507d595",
   "metadata": {},
   "outputs": [
    {
     "data": {
      "text/plain": [
       "3 pokoje    1222\n",
       "2 pokoje    1217\n",
       "4 pokoje     506\n",
       "1 pokój      259\n",
       "5 pokoi       87\n",
       "6 pokoi       17\n",
       "7 pokoi        1\n",
       "Name: Liczba_pokoi, dtype: int64"
      ]
     },
     "execution_count": 47,
     "metadata": {},
     "output_type": "execute_result"
    }
   ],
   "source": [
    "df_clean[\"Liczba_pokoi\"].value_counts()"
   ]
  },
  {
   "cell_type": "code",
   "execution_count": 54,
   "id": "194d8195",
   "metadata": {},
   "outputs": [
    {
     "data": {
      "text/plain": [
       "'1 700 m2'"
      ]
     },
     "execution_count": 54,
     "metadata": {},
     "output_type": "execute_result"
    }
   ],
   "source": [
    "df_clean.loc[65, \"Powierzchnia\"]"
   ]
  },
  {
   "cell_type": "code",
   "execution_count": 58,
   "id": "f473fd4b",
   "metadata": {},
   "outputs": [
    {
     "name": "stdout",
     "output_type": "stream",
     "text": [
      "<class 'pandas.core.frame.DataFrame'>\n",
      "Int64Index: 3309 entries, 0 to 4849\n",
      "Data columns (total 8 columns):\n",
      " #   Column          Non-Null Count  Dtype  \n",
      "---  ------          --------------  -----  \n",
      " 0   Miasto          3309 non-null   object \n",
      " 1   Powiat          3309 non-null   object \n",
      " 2   Województwo     2797 non-null   object \n",
      " 3   Powierzchnia    3309 non-null   float64\n",
      " 4   Liczba_pokoi    3309 non-null   object \n",
      " 5   Piętro          2570 non-null   object \n",
      " 6   Cena_za_m2      3309 non-null   object \n",
      " 7   Cena_całkowita  3309 non-null   object \n",
      "dtypes: float64(1), object(7)\n",
      "memory usage: 361.7+ KB\n"
     ]
    }
   ],
   "source": [
    "df_clean.info()"
   ]
  },
  {
   "cell_type": "code",
   "execution_count": 61,
   "id": "594199ea",
   "metadata": {},
   "outputs": [],
   "source": [
    "df_clean[\"Piętro\"]=df_clean[\"Piętro\"].apply(get_num)\n",
    "df_clean[\"Liczba_pokoi\"]=df_clean[\"Liczba_pokoi\"].apply(get_num)\n",
    "df_clean[\"Powierzchnia\"] = df_clean[\"Powierzchnia\"].str.replace(\"m2\",\"\").str.replace(\",\",\".\").str.replace(\" \",\"\").astype(float)\n",
    "df_clean[\"Liczba_pokoi\"]=df_clean[\"Liczba_pokoi\"].astype(float)\n",
    "df_clean[\"Piętro\"]=df_clean[\"Piętro\"].astype(float)\n",
    "df_clean[\"Cena_za_m2\"]=df_clean[\"Cena_za_m2\"].astype(int)\n",
    "df_clean[\"Cena_całkowita\"]=df_clean[\"Cena_całkowita\"].astype(int)"
   ]
  },
  {
   "cell_type": "code",
   "execution_count": 63,
   "id": "d67c2d6e",
   "metadata": {},
   "outputs": [],
   "source": [
    "poznan=df_clean[df_clean[\"Miasto\"]==\"Poznań\"]\n",
    "poznan=poznan[poznan[\"Powiat\"]!=\"wielkopolskie\"]\n",
    "poznan.rename({\"Powiat\":\"Dzielnica\"},axis=1,inplace=True)\n",
    "poznan.drop(\"Województwo\",axis=1,inplace=True)"
   ]
  },
  {
   "cell_type": "code",
   "execution_count": 64,
   "id": "b789fb6a",
   "metadata": {},
   "outputs": [
    {
     "data": {
      "text/html": [
       "<div>\n",
       "<style scoped>\n",
       "    .dataframe tbody tr th:only-of-type {\n",
       "        vertical-align: middle;\n",
       "    }\n",
       "\n",
       "    .dataframe tbody tr th {\n",
       "        vertical-align: top;\n",
       "    }\n",
       "\n",
       "    .dataframe thead th {\n",
       "        text-align: right;\n",
       "    }\n",
       "</style>\n",
       "<table border=\"1\" class=\"dataframe\">\n",
       "  <thead>\n",
       "    <tr style=\"text-align: right;\">\n",
       "      <th></th>\n",
       "      <th>Miasto</th>\n",
       "      <th>Dzielnica</th>\n",
       "      <th>Powierzchnia</th>\n",
       "      <th>Liczba_pokoi</th>\n",
       "      <th>Piętro</th>\n",
       "      <th>Cena_za_m2</th>\n",
       "      <th>Cena_całkowita</th>\n",
       "    </tr>\n",
       "  </thead>\n",
       "  <tbody>\n",
       "    <tr>\n",
       "      <th>5</th>\n",
       "      <td>Poznań</td>\n",
       "      <td>Jeżyce</td>\n",
       "      <td>25</td>\n",
       "      <td>1.0</td>\n",
       "      <td>0.0</td>\n",
       "      <td>13963</td>\n",
       "      <td>359000</td>\n",
       "    </tr>\n",
       "    <tr>\n",
       "      <th>8</th>\n",
       "      <td>Poznań</td>\n",
       "      <td>Wilda</td>\n",
       "      <td>50</td>\n",
       "      <td>2.0</td>\n",
       "      <td>2.0</td>\n",
       "      <td>10200</td>\n",
       "      <td>510000</td>\n",
       "    </tr>\n",
       "    <tr>\n",
       "      <th>12</th>\n",
       "      <td>Poznań</td>\n",
       "      <td>Piątkowo</td>\n",
       "      <td>58</td>\n",
       "      <td>2.0</td>\n",
       "      <td>0.0</td>\n",
       "      <td>10034</td>\n",
       "      <td>590000</td>\n",
       "    </tr>\n",
       "    <tr>\n",
       "      <th>13</th>\n",
       "      <td>Poznań</td>\n",
       "      <td>Łazarz</td>\n",
       "      <td>110</td>\n",
       "      <td>3.0</td>\n",
       "      <td>1.0</td>\n",
       "      <td>6984</td>\n",
       "      <td>770000</td>\n",
       "    </tr>\n",
       "    <tr>\n",
       "      <th>14</th>\n",
       "      <td>Poznań</td>\n",
       "      <td>StareMiasto</td>\n",
       "      <td>53</td>\n",
       "      <td>2.0</td>\n",
       "      <td>2.0</td>\n",
       "      <td>12420</td>\n",
       "      <td>664594</td>\n",
       "    </tr>\n",
       "    <tr>\n",
       "      <th>...</th>\n",
       "      <td>...</td>\n",
       "      <td>...</td>\n",
       "      <td>...</td>\n",
       "      <td>...</td>\n",
       "      <td>...</td>\n",
       "      <td>...</td>\n",
       "      <td>...</td>\n",
       "    </tr>\n",
       "    <tr>\n",
       "      <th>4811</th>\n",
       "      <td>Poznań</td>\n",
       "      <td>Strzeszyn</td>\n",
       "      <td>35</td>\n",
       "      <td>1.0</td>\n",
       "      <td>3.0</td>\n",
       "      <td>9697</td>\n",
       "      <td>340567</td>\n",
       "    </tr>\n",
       "    <tr>\n",
       "      <th>4812</th>\n",
       "      <td>Poznań</td>\n",
       "      <td>Strzeszyn</td>\n",
       "      <td>41</td>\n",
       "      <td>2.0</td>\n",
       "      <td>0.0</td>\n",
       "      <td>9700</td>\n",
       "      <td>402065</td>\n",
       "    </tr>\n",
       "    <tr>\n",
       "      <th>4813</th>\n",
       "      <td>Poznań</td>\n",
       "      <td>Strzeszyn</td>\n",
       "      <td>66</td>\n",
       "      <td>4.0</td>\n",
       "      <td>0.0</td>\n",
       "      <td>9200</td>\n",
       "      <td>611524</td>\n",
       "    </tr>\n",
       "    <tr>\n",
       "      <th>4814</th>\n",
       "      <td>Poznań</td>\n",
       "      <td>Strzeszyn</td>\n",
       "      <td>42</td>\n",
       "      <td>2.0</td>\n",
       "      <td>0.0</td>\n",
       "      <td>9700</td>\n",
       "      <td>412929</td>\n",
       "    </tr>\n",
       "    <tr>\n",
       "      <th>4815</th>\n",
       "      <td>Poznań</td>\n",
       "      <td>Strzeszyn</td>\n",
       "      <td>42</td>\n",
       "      <td>2.0</td>\n",
       "      <td>0.0</td>\n",
       "      <td>9700</td>\n",
       "      <td>412929</td>\n",
       "    </tr>\n",
       "  </tbody>\n",
       "</table>\n",
       "<p>1504 rows × 7 columns</p>\n",
       "</div>"
      ],
      "text/plain": [
       "      Miasto    Dzielnica  Powierzchnia  Liczba_pokoi  Piętro  Cena_za_m2  \\\n",
       "5     Poznań       Jeżyce            25           1.0     0.0       13963   \n",
       "8     Poznań        Wilda            50           2.0     2.0       10200   \n",
       "12    Poznań     Piątkowo            58           2.0     0.0       10034   \n",
       "13    Poznań       Łazarz           110           3.0     1.0        6984   \n",
       "14    Poznań  StareMiasto            53           2.0     2.0       12420   \n",
       "...      ...          ...           ...           ...     ...         ...   \n",
       "4811  Poznań    Strzeszyn            35           1.0     3.0        9697   \n",
       "4812  Poznań    Strzeszyn            41           2.0     0.0        9700   \n",
       "4813  Poznań    Strzeszyn            66           4.0     0.0        9200   \n",
       "4814  Poznań    Strzeszyn            42           2.0     0.0        9700   \n",
       "4815  Poznań    Strzeszyn            42           2.0     0.0        9700   \n",
       "\n",
       "      Cena_całkowita  \n",
       "5             359000  \n",
       "8             510000  \n",
       "12            590000  \n",
       "13            770000  \n",
       "14            664594  \n",
       "...              ...  \n",
       "4811          340567  \n",
       "4812          402065  \n",
       "4813          611524  \n",
       "4814          412929  \n",
       "4815          412929  \n",
       "\n",
       "[1504 rows x 7 columns]"
      ]
     },
     "execution_count": 64,
     "metadata": {},
     "output_type": "execute_result"
    }
   ],
   "source": [
    "poznan"
   ]
  },
  {
   "cell_type": "code",
   "execution_count": 65,
   "id": "1a55152c",
   "metadata": {},
   "outputs": [],
   "source": [
    "poznan_x=poznan[['Miasto', 'Dzielnica','Powierzchnia',\n",
    "       'Liczba_pokoi', 'Cena_za_m2', 'Piętro']]\n",
    "poznan_y=poznan[[\"Cena_całkowita\"]]"
   ]
  },
  {
   "cell_type": "code",
   "execution_count": 66,
   "metadata": {},
   "outputs": [],
   "source": [
    "from sklearn.pipeline import Pipeline\n",
    "from sklearn.compose import ColumnTransformer\n",
    "from sklearn.preprocessing import StandardScaler\n",
    "from sklearn.impute import SimpleImputer\n",
    "from sklearn.preprocessing import OneHotEncoder\n",
    "num_pipeline=Pipeline([\n",
    "                    ('inputer ', SimpleImputer(strategy='median')),\n",
    "                    ('scaler', StandardScaler())])\n",
    "\n",
    "num_cols=['Powierzchnia',\n",
    "       'Liczba_pokoi', 'Cena_za_m2', 'Piętro']\n",
    "cat_cols=['Miasto', 'Dzielnica']\n",
    "full_pipeline=ColumnTransformer([\n",
    "    ('num', num_pipeline, num_cols),\n",
    "    ('cat', OneHotEncoder(), cat_cols)])"
   ]
  },
  {
   "cell_type": "code",
   "execution_count": 67,
   "metadata": {},
   "outputs": [],
   "source": [
    "poznan_x=full_pipeline.fit_transform(poznan_x)"
   ]
  },
  {
   "cell_type": "code",
   "execution_count": 68,
   "id": "6cb25545",
   "metadata": {},
   "outputs": [],
   "source": [
    "from sklearn.model_selection import train_test_split\n",
    "train_x, test_x, train_y, test_y=train_test_split(poznan_x, poznan_y, test_size=0.4)"
   ]
  },
  {
   "cell_type": "code",
   "execution_count": 69,
   "id": "9ad15fb8",
   "metadata": {},
   "outputs": [
    {
     "data": {
      "text/plain": [
       "(1504, 51)"
      ]
     },
     "execution_count": 69,
     "metadata": {},
     "output_type": "execute_result"
    }
   ],
   "source": [
    "poznan_x.shape"
   ]
  },
  {
   "cell_type": "code",
   "execution_count": 70,
   "id": "b5959413",
   "metadata": {},
   "outputs": [
    {
     "name": "stdout",
     "output_type": "stream",
     "text": [
      "R-squared Score: 0.9101203505156658\n",
      "Mean Squared Error: 8703953859.658112\n",
      "SVR R-squared Score: -0.05448300013248408\n",
      "SVR Mean Squared Error: 102116234671.63979\n",
      "Lasso R-squared Score: 0.9101246000582262\n",
      "Lasso Mean Squared Error: 8703542333.549786\n"
     ]
    },
    {
     "name": "stderr",
     "output_type": "stream",
     "text": [
      "/Users/wojtekmarszalek/opt/anaconda3/lib/python3.9/site-packages/sklearn/utils/validation.py:993: DataConversionWarning: A column-vector y was passed when a 1d array was expected. Please change the shape of y to (n_samples, ), for example using ravel().\n",
      "  y = column_or_1d(y, warn=True)\n"
     ]
    }
   ],
   "source": [
    "from sklearn.svm import SVR\n",
    "from sklearn.linear_model import Lasso\n",
    "from sklearn.metrics import mean_squared_error\n",
    "from sklearn.linear_model import LinearRegression\n",
    "from sklearn.metrics import mean_squared_error\n",
    "\n",
    "lin_model = LinearRegression()\n",
    "lin_model.fit(train_x, train_y)\n",
    "\n",
    "# Predict on the test data\n",
    "y_pred = lin_model.predict(test_x)\n",
    "\n",
    "# Calculate the R-squared score\n",
    "r_squared = lin_model.score(test_x, test_y)\n",
    "\n",
    "# Calculate the mean squared error\n",
    "mse = mean_squared_error(test_y, y_pred)\n",
    "\n",
    "print(\"R-squared Score:\", r_squared)\n",
    "print(\"Mean Squared Error:\", mse)\n",
    "\n",
    "# SVR\n",
    "svr_model = SVR()\n",
    "svr_model.fit(train_x, train_y)\n",
    "svr_pred = svr_model.predict(test_x)\n",
    "svr_score = svr_model.score(test_x, test_y)\n",
    "svr_mse = mean_squared_error(test_y, svr_pred)\n",
    "\n",
    "print(\"SVR R-squared Score:\", svr_score)\n",
    "print(\"SVR Mean Squared Error:\", svr_mse)\n",
    "\n",
    "# Lasso\n",
    "lasso_model = Lasso()\n",
    "lasso_model.fit(train_x, train_y)\n",
    "lasso_pred = lasso_model.predict(test_x)\n",
    "lasso_score = lasso_model.score(test_x, test_y)\n",
    "lasso_mse = mean_squared_error(test_y, lasso_pred)\n",
    "\n",
    "print(\"Lasso R-squared Score:\", lasso_score)\n",
    "print(\"Lasso Mean Squared Error:\", lasso_mse)"
   ]
  },
  {
   "cell_type": "code",
   "execution_count": 71,
   "id": "35b5a643",
   "metadata": {},
   "outputs": [
    {
     "name": "stdout",
     "output_type": "stream",
     "text": [
      "Ridge Regression R-squared Score: 0.9102098443397519\n",
      "Ridge Regression Mean Squared Error: 8695287269.166943\n",
      "ElasticNet Regression R-squared Score: 0.7909537601290451\n",
      "ElasticNet Regression Mean Squared Error: 20244057879.742313\n",
      "Decision Tree Regression R-squared Score: 0.9547354081509554\n",
      "Decision Tree Regression Mean Squared Error: 4383427407.5469265\n"
     ]
    },
    {
     "name": "stderr",
     "output_type": "stream",
     "text": [
      "/var/folders/lv/5hlry00j1vl3lmxtg4gj8r6r0000gn/T/ipykernel_8212/3510769580.py:37: DataConversionWarning: A column-vector y was passed when a 1d array was expected. Please change the shape of y to (n_samples,), for example using ravel().\n",
      "  rf_model.fit(train_x, train_y)\n"
     ]
    },
    {
     "name": "stdout",
     "output_type": "stream",
     "text": [
      "Random Forest Regression R-squared Score: 0.9809998530511149\n",
      "Random Forest Regression Mean Squared Error: 1839976049.2907114\n",
      "Gradient Boosting Regression R-squared Score: 0.9828840217703614\n",
      "Gradient Boosting Regression Mean Squared Error: 1657512970.15965\n"
     ]
    },
    {
     "name": "stderr",
     "output_type": "stream",
     "text": [
      "/Users/wojtekmarszalek/opt/anaconda3/lib/python3.9/site-packages/sklearn/ensemble/_gb.py:494: DataConversionWarning: A column-vector y was passed when a 1d array was expected. Please change the shape of y to (n_samples, ), for example using ravel().\n",
      "  y = column_or_1d(y, warn=True)\n"
     ]
    }
   ],
   "source": [
    "from sklearn.linear_model import Ridge, ElasticNet\n",
    "from sklearn.tree import DecisionTreeRegressor\n",
    "from sklearn.ensemble import RandomForestRegressor, GradientBoostingRegressor\n",
    "\n",
    "# Ridge Regression\n",
    "ridge_model = Ridge()\n",
    "ridge_model.fit(train_x, train_y)\n",
    "ridge_pred = ridge_model.predict(test_x)\n",
    "ridge_score = ridge_model.score(test_x, test_y)\n",
    "ridge_mse = mean_squared_error(test_y, ridge_pred)\n",
    "\n",
    "print(\"Ridge Regression R-squared Score:\", ridge_score)\n",
    "print(\"Ridge Regression Mean Squared Error:\", ridge_mse)\n",
    "\n",
    "# ElasticNet Regression\n",
    "elasticnet_model = ElasticNet()\n",
    "elasticnet_model.fit(train_x, train_y)\n",
    "elasticnet_pred = elasticnet_model.predict(test_x)\n",
    "elasticnet_score = elasticnet_model.score(test_x, test_y)\n",
    "elasticnet_mse = mean_squared_error(test_y, elasticnet_pred)\n",
    "\n",
    "print(\"ElasticNet Regression R-squared Score:\", elasticnet_score)\n",
    "print(\"ElasticNet Regression Mean Squared Error:\", elasticnet_mse)\n",
    "\n",
    "# Decision Tree Regression\n",
    "dt_model = DecisionTreeRegressor()\n",
    "dt_model.fit(train_x, train_y)\n",
    "dt_pred = dt_model.predict(test_x)\n",
    "dt_score = dt_model.score(test_x, test_y)\n",
    "dt_mse = mean_squared_error(test_y, dt_pred)\n",
    "\n",
    "print(\"Decision Tree Regression R-squared Score:\", dt_score)\n",
    "print(\"Decision Tree Regression Mean Squared Error:\", dt_mse)\n",
    "\n",
    "# Random Forest Regression\n",
    "rf_model = RandomForestRegressor()\n",
    "rf_model.fit(train_x, train_y)\n",
    "rf_pred = rf_model.predict(test_x)\n",
    "rf_score = rf_model.score(test_x, test_y)\n",
    "rf_mse = mean_squared_error(test_y, rf_pred)\n",
    "\n",
    "print(\"Random Forest Regression R-squared Score:\", rf_score)\n",
    "print(\"Random Forest Regression Mean Squared Error:\", rf_mse)\n",
    "\n",
    "# Gradient Boosting Regression\n",
    "gb_model = GradientBoostingRegressor()\n",
    "gb_model.fit(train_x, train_y)\n",
    "gb_pred = gb_model.predict(test_x)\n",
    "gb_score = gb_model.score(test_x, test_y)\n",
    "gb_mse = mean_squared_error(test_y, gb_pred)\n",
    "\n",
    "print(\"Gradient Boosting Regression R-squared Score:\", gb_score)\n",
    "print(\"Gradient Boosting Regression Mean Squared Error:\", gb_mse)"
   ]
  },
  {
   "cell_type": "code",
   "execution_count": 120,
   "id": "d38faacb",
   "metadata": {},
   "outputs": [],
   "source": []
  }
 ],
 "metadata": {
  "kernelspec": {
   "display_name": "Python 3 (ipykernel)",
   "language": "python",
   "name": "python3"
  },
  "language_info": {
   "codemirror_mode": {
    "name": "ipython",
    "version": 3
   },
   "file_extension": ".py",
   "mimetype": "text/x-python",
   "name": "python",
   "nbconvert_exporter": "python",
   "pygments_lexer": "ipython3",
   "version": "3.9.13"
  }
 },
 "nbformat": 4,
 "nbformat_minor": 5
}
